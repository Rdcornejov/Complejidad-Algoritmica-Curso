{
  "nbformat": 4,
  "nbformat_minor": 0,
  "metadata": {
    "colab": {
      "name": "03-03-skylines-reloaded.ipynb",
      "provenance": [],
      "authorship_tag": "ABX9TyN7LildC72IYXO5VOtqvBLx",
      "include_colab_link": true
    },
    "kernelspec": {
      "name": "python3",
      "display_name": "Python 3"
    },
    "language_info": {
      "name": "python"
    }
  },
  "cells": [
    {
      "cell_type": "markdown",
      "metadata": {
        "id": "view-in-github",
        "colab_type": "text"
      },
      "source": [
        "<a href=\"https://colab.research.google.com/github/lmcanavals/algorithmic_complexity/blob/main/03_03_skylines_reloaded.ipynb\" target=\"_parent\"><img src=\"https://colab.research.google.com/assets/colab-badge.svg\" alt=\"Open In Colab\"/></a>"
      ]
    },
    {
      "cell_type": "markdown",
      "metadata": {
        "id": "1PlqlnjBPmqB"
      },
      "source": [
        "# Skyline problem\n",
        "\n",
        "Un problema clásico para sobreponer imágenes es la eliminación de las líneas ocultas. En el caso en\n",
        "2D el objetivo es de dibujar el skyline de una ciudad. Para simplificar, supongamos que todos los edificios\n",
        "correspondent (por proyección) a rectángulos que comparten todos la misma base (i.e. la ciudad es plana).\n",
        "Un edificio es una tripleta `(g, h, d)`, $d \\gt g \\ge 0, h \\ge 0$ que representa al rectángulo `(g, 0),(g, h),(d, h),(d, 0)`. Por ejemplo, para 6 edificios dados por `(3, 13, 9), (1, 11, 5), (19, 18, 22), (3, 6, 7), (16, 3, 25), (12, 7, 16)` (ver\n",
        "la figura 1a), el skyline obtenido será dado por la figura 1b."
      ]
    },
    {
      "cell_type": "code",
      "metadata": {
        "id": "p1EVjwIUO_bp"
      },
      "source": [
        "rects = [(3, 13, 9), (1, 11, 5), (19, 18, 22), (3, 6, 7), (16, 3, 25), (12, 7, 16)]"
      ],
      "execution_count": 1,
      "outputs": []
    },
    {
      "cell_type": "code",
      "metadata": {
        "id": "DHPvB1VCQHPA"
      },
      "source": [
        "def toRect(triple):\n",
        "  g, h, d = triple\n",
        "  return [(g, 0),(g, h),(d, h),(d, 0)]"
      ],
      "execution_count": 2,
      "outputs": []
    },
    {
      "cell_type": "code",
      "metadata": {
        "id": "N0UNBlPCQRmA"
      },
      "source": [
        "import matplotlib.pyplot as plt"
      ],
      "execution_count": 3,
      "outputs": []
    },
    {
      "cell_type": "code",
      "metadata": {
        "colab": {
          "base_uri": "https://localhost:8080/"
        },
        "id": "hKaMfo5aQUEt",
        "outputId": "9f7396fd-f734-4bf1-fcd5-7ec6afe1c4a8"
      },
      "source": [
        "rect = toRect(rects[0])\n",
        "print(rect)\n",
        "x, y = zip(*rect)\n",
        "print(x)\n",
        "print(y)"
      ],
      "execution_count": 4,
      "outputs": [
        {
          "output_type": "stream",
          "name": "stdout",
          "text": [
            "[(3, 0), (3, 13), (9, 13), (9, 0)]\n",
            "(3, 3, 9, 9)\n",
            "(0, 13, 13, 0)\n"
          ]
        }
      ]
    },
    {
      "cell_type": "markdown",
      "metadata": {
        "id": "ZrG4-MxuRAny"
      },
      "source": [
        "## Fig 1a"
      ]
    },
    {
      "cell_type": "code",
      "metadata": {
        "colab": {
          "base_uri": "https://localhost:8080/",
          "height": 248
        },
        "id": "RHTE7s-OQZIZ",
        "outputId": "76f6fa34-18c7-42c9-8096-c2c613b7775a"
      },
      "source": [
        "for rect in rects:\n",
        "  r = toRect(rect)\n",
        "  r.append(r[0])\n",
        "  x, y = zip(*r)\n",
        "  plt.plot(x, y)\n",
        "plt.axis(\"off\")\n",
        "plt.show()"
      ],
      "execution_count": 5,
      "outputs": [
        {
          "output_type": "display_data",
          "data": {
            "image/png": "[encoded data removed]",
            "text/plain": [
              "<Figure size 432x288 with 1 Axes>"
            ]
          },
          "metadata": {
            "needs_background": "light"
          }
        }
      ]
    },
    {
      "cell_type": "code",
      "metadata": {
        "id": "roX1DXbbWh7w"
      },
      "source": [
        "def drawContour(contour):\n",
        "  points = [(0, 0)]\n",
        "  for x, y in contour:\n",
        "    points.append((x, points[-1][1]))\n",
        "    points.append((x, y))\n",
        "  x, y = zip(*points)\n",
        "  \n",
        "  plt.plot(x, y)"
      ],
      "execution_count": 6,
      "outputs": []
    },
    {
      "cell_type": "markdown",
      "metadata": {
        "id": "LmnoQZjdRbhw"
      },
      "source": [
        "## Contour"
      ]
    },
    {
      "cell_type": "code",
      "metadata": {
        "id": "XF6s1zILQlRy"
      },
      "source": [
        "def toContour(triple):\n",
        "  g, h, d = triple\n",
        "  return [(g, h), (d, 0)]"
      ],
      "execution_count": 7,
      "outputs": []
    },
    {
      "cell_type": "code",
      "metadata": {
        "colab": {
          "base_uri": "https://localhost:8080/",
          "height": 265
        },
        "id": "YkKJpD-rRw4Y",
        "outputId": "196b235b-b62a-472a-bb34-333a4ef93882"
      },
      "source": [
        "contour0 = toContour(rects[0])\n",
        "contour1 = toContour(rects[1])\n",
        "drawContour(contour0)\n",
        "drawContour(contour1)\n",
        "plt.show()"
      ],
      "execution_count": 8,
      "outputs": [
        {
          "output_type": "display_data",
          "data": {
            "image/png": "[encoded data removed]",
            "text/plain": [
              "<Figure size 432x288 with 1 Axes>"
            ]
          },
          "metadata": {
            "needs_background": "light"
          }
        }
      ]
    },
    {
      "cell_type": "code",
      "metadata": {
        "id": "WFTbq1CkUeud"
      },
      "source": [
        "def addPoint(res, x, y):\n",
        "  if len(res) > 0:\n",
        "    if res[-1][1] == y:\n",
        "      return\n",
        "    elif res[-1][0] == x:\n",
        "      x0, y0 = res[-1]\n",
        "      res[-1] = (x, max(y, y0))\n",
        "      return\n",
        "\n",
        "  res.append((x, y))"
      ],
      "execution_count": 9,
      "outputs": []
    },
    {
      "cell_type": "code",
      "metadata": {
        "id": "fCORCcuZR7AU"
      },
      "source": [
        "def merge(c1, c2):\n",
        "  res = []\n",
        "  n1, n2 = len(c1), len(c2)\n",
        "  i1, i2 = 0, 0\n",
        "  y1, y2 = 0, 0\n",
        "  while i1 < n1 or i2 < n2:\n",
        "    if i2 >= n2 or i1 < n1 and c1[i1][0] < c2[i2][0]:\n",
        "      x, y1 = c1[i1]\n",
        "      i1 += 1\n",
        "    else:\n",
        "      x, y2 = c2[i2]\n",
        "      i2 += 1\n",
        "    y = max(y1, y2)\n",
        "    addPoint(res, x, y)\n",
        "\n",
        "  return res"
      ],
      "execution_count": 10,
      "outputs": []
    },
    {
      "cell_type": "markdown",
      "metadata": {
        "id": "SGO2XhdtV7hQ"
      },
      "source": [
        "## 1b"
      ]
    },
    {
      "cell_type": "code",
      "metadata": {
        "colab": {
          "base_uri": "https://localhost:8080/"
        },
        "id": "i4v1DIqNXHP4",
        "outputId": "20f50824-1d28-4c20-f1ae-0d899a805c7b"
      },
      "source": [
        "contour = toContour(rects[0])\n",
        "for i in range(1, len(rects)):\n",
        "  contour0 = toContour(rects[i])\n",
        "  contour = merge(contour, contour0)\n",
        "print(contour)"
      ],
      "execution_count": 11,
      "outputs": [
        {
          "output_type": "stream",
          "name": "stdout",
          "text": [
            "[(1, 11), (3, 13), (9, 0), (12, 7), (16, 3), (19, 18), (22, 3), (25, 0)]\n"
          ]
        }
      ]
    },
    {
      "cell_type": "code",
      "metadata": {
        "colab": {
          "base_uri": "https://localhost:8080/",
          "height": 265
        },
        "id": "PTHyBm6kVCjI",
        "outputId": "bc4e9bf2-a163-437e-9b1a-4a0c6f8b7512"
      },
      "source": [
        "drawContour(contour)"
      ],
      "execution_count": 12,
      "outputs": [
        {
          "output_type": "display_data",
          "data": {
            "image/png": "[encoded data removed]",
            "text/plain": [
              "<Figure size 432x288 with 1 Axes>"
            ]
          },
          "metadata": {
            "needs_background": "light"
          }
        }
      ]
    },
    {
      "cell_type": "markdown",
      "metadata": {
        "id": "glPw1V3RX1Pd"
      },
      "source": [
        "## The divide and conquer way"
      ]
    },
    {
      "cell_type": "code",
      "metadata": {
        "id": "flfUVJHkVJne"
      },
      "source": [
        "def skyline(rects, i, f):\n",
        "  if i == f:\n",
        "    return toContour(rects[i])\n",
        "  else:\n",
        "    mid = (i + f) // 2\n",
        "    c1 = skyline(rects, i, mid)\n",
        "    c2 = skyline(rects, mid + 1, f)\n",
        "    return merge(c1, c2)"
      ],
      "execution_count": 13,
      "outputs": []
    },
    {
      "cell_type": "code",
      "metadata": {
        "colab": {
          "base_uri": "https://localhost:8080/"
        },
        "id": "Tm8gF_ObWaTN",
        "outputId": "7dea2b36-3304-4185-d1ec-16ed29784905"
      },
      "source": [
        "contour = skyline(rects, 0, len(rects) - 1)\n",
        "print(contour)"
      ],
      "execution_count": 14,
      "outputs": [
        {
          "output_type": "stream",
          "name": "stdout",
          "text": [
            "[(1, 11), (3, 13), (9, 0), (12, 7), (16, 3), (19, 18), (22, 3), (25, 0)]\n"
          ]
        }
      ]
    },
    {
      "cell_type": "code",
      "metadata": {
        "colab": {
          "base_uri": "https://localhost:8080/",
          "height": 265
        },
        "id": "2lVXnkZ_W8vG",
        "outputId": "688b2698-2000-4863-ba67-d35203e249e4"
      },
      "source": [
        "drawContour(contour)"
      ],
      "execution_count": 15,
      "outputs": [
        {
          "output_type": "display_data",
          "data": {
            "image/png": "[encoded data removed]",
            "text/plain": [
              "<Figure size 432x288 with 1 Axes>"
            ]
          },
          "metadata": {
            "needs_background": "light"
          }
        }
      ]
    },
    {
      "cell_type": "code",
      "metadata": {
        "id": "idDZUAOpkrG6"
      },
      "source": [
        "def contourDots(contour):\n",
        "  x, y = zip(*contour)\n",
        "  \n",
        "  plt.scatter(x, y)\n",
        "  bbox = {'boxstyle': 'round',\n",
        "        'facecolor': 'pink',\n",
        "        'edgecolor': 'orange'}\n",
        "  for x, y in contour:\n",
        "    plt.text(x, y, f\"{x}, {y}\", position=(x, y+.5), bbox=bbox, rotation=30)"
      ],
      "execution_count": 21,
      "outputs": []
    },
    {
      "cell_type": "code",
      "metadata": {
        "colab": {
          "base_uri": "https://localhost:8080/",
          "height": 390
        },
        "id": "br7ScHY4W93i",
        "outputId": "3060a5bc-9c7a-4652-85a9-16c5d8b2158d"
      },
      "source": [
        "plt.subplots(figsize=(12, 6))\n",
        "plt.subplot(1, 2, 1)\n",
        "for rect in rects:\n",
        "  r = toRect(rect)\n",
        "  r.append(r[0])\n",
        "  x, y = zip(*r)\n",
        "  plt.plot(x, y)\n",
        "  \n",
        "plt.subplot(1, 2, 2)\n",
        "for rect in rects:\n",
        "  r = toRect(rect)\n",
        "  r.append(r[0])\n",
        "  x, y = zip(*r)\n",
        "  plt.plot(x, y, color=\"lightgray\", linestyle=\"dashed\", zorder=0)\n",
        "drawContour(contour)\n",
        "contourDots(contour)\n",
        "plt.show()"
      ],
      "execution_count": 22,
      "outputs": [
        {
          "output_type": "display_data",
          "data": {
            "image/png": "[encoded data removed]",
            "text/plain": [
              "<Figure size 864x432 with 2 Axes>"
            ]
          },
          "metadata": {
            "needs_background": "light"
          }
        }
      ]
    },
    {
      "cell_type": "code",
      "metadata": {
        "id": "Gr1tlMc5ZRBV"
      },
      "source": [
        ""
      ],
      "execution_count": 16,
      "outputs": []
    }
  ]
}