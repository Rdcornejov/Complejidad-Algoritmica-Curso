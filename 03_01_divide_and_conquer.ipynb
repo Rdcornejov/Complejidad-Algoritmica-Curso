{
  "nbformat": 4,
  "nbformat_minor": 0,
  "metadata": {
    "colab": {
      "name": "03-01-divide_and_conquer.ipynb",
      "provenance": [],
      "collapsed_sections": [],
      "authorship_tag": "ABX9TyNmjs9zyF9v9P+xj8k1mL6X",
      "include_colab_link": true
    },
    "kernelspec": {
      "name": "python3",
      "display_name": "Python 3"
    },
    "language_info": {
      "name": "python"
    }
  },
  "cells": [
    {
      "cell_type": "markdown",
      "metadata": {
        "id": "view-in-github",
        "colab_type": "text"
      },
      "source": [
        "<a href=\"https://colab.research.google.com/github/lmcanavals/algorithmic_complexity/blob/main/03_01_divide_and_conquer.ipynb\" target=\"_parent\"><img src=\"https://colab.research.google.com/assets/colab-badge.svg\" alt=\"Open In Colab\"/></a>"
      ]
    },
    {
      "cell_type": "markdown",
      "metadata": {
        "id": "sY8k5giJgz9l"
      },
      "source": [
        "# Divide and Conquer"
      ]
    },
    {
      "cell_type": "markdown",
      "metadata": {
        "id": "h8lUJ47DjaTY"
      },
      "source": [
        "## Master Theorem\n",
        "\n",
        "$$ T(n) = aT(\\frac{n}{b}) + O(n^k) $$\n",
        "\n",
        "So...\n",
        "\n",
        "$$\n",
        "T(n) = \\begin{equation}\n",
        "\\left\\{ \n",
        "  \\begin{aligned}\n",
        "    O(n^k)           && a < b^k\\\\\n",
        "    O(n^k\\,log\\,n)   && a = b^k\\\\\n",
        "    O(n^{log_b\\,a})  && a > b^k\n",
        "  \\end{aligned}\n",
        "  \\right.\n",
        "\\end{equation}\n",
        "$$"
      ]
    },
    {
      "cell_type": "markdown",
      "metadata": {
        "id": "yfP4qLb8g5E5"
      },
      "source": [
        "## Max element in list"
      ]
    },
    {
      "cell_type": "code",
      "metadata": {
        "colab": {
          "base_uri": "https://localhost:8080/"
        },
        "id": "bVk2nNDuhLIN",
        "outputId": "6f0401ed-1ba4-457d-993c-c1c426cc0e90"
      },
      "source": [
        "import random\n",
        "\n",
        "a = list(range(30))\n",
        "random.shuffle(a)\n",
        "print(a)"
      ],
      "execution_count": null,
      "outputs": [
        {
          "output_type": "stream",
          "name": "stdout",
          "text": [
            "[13, 17, 9, 10, 5, 22, 15, 24, 14, 21, 23, 1, 11, 0, 12, 27, 7, 8, 20, 6, 25, 19, 29, 2, 4, 16, 3, 18, 26, 28]\n"
          ]
        }
      ]
    },
    {
      "cell_type": "markdown",
      "metadata": {
        "id": "2Q8rj1POg75k"
      },
      "source": [
        "### Brute Force"
      ]
    },
    {
      "cell_type": "code",
      "metadata": {
        "id": "9a_bTXPpgzOF"
      },
      "source": [
        "def bfmax(a):\n",
        "  m = a[0]\n",
        "  for i in range(1, len(a)):\n",
        "    if a[i] > m:\n",
        "      m = a[i]\n",
        "  return m"
      ],
      "execution_count": null,
      "outputs": []
    },
    {
      "cell_type": "code",
      "metadata": {
        "colab": {
          "base_uri": "https://localhost:8080/"
        },
        "id": "b0pyQ0SfhI1k",
        "outputId": "e4f743e0-93cb-4bed-c496-a762e465caed"
      },
      "source": [
        "res = bfmax(a)\n",
        "assert res == 29\n",
        "print(res)"
      ],
      "execution_count": null,
      "outputs": [
        {
          "output_type": "stream",
          "name": "stdout",
          "text": [
            "29\n"
          ]
        }
      ]
    },
    {
      "cell_type": "markdown",
      "metadata": {
        "id": "_tYbbHPmhpez"
      },
      "source": [
        "$ O(n) $"
      ]
    },
    {
      "cell_type": "markdown",
      "metadata": {
        "id": "wxUpQAu5hvrc"
      },
      "source": [
        "### Divide and conquer"
      ]
    },
    {
      "cell_type": "code",
      "metadata": {
        "id": "PCxX6PVihlaB"
      },
      "source": [
        "def dcmax(a, i, f):\n",
        "  if i == f:\n",
        "    return a[i]\n",
        "  mid = (i + f) // 2\n",
        "  maxleft = dcmax(a, i, mid)\n",
        "  maxright = dcmax(a, mid + 1, f)\n",
        "  return maxleft if maxleft > maxright else maxright"
      ],
      "execution_count": null,
      "outputs": []
    },
    {
      "cell_type": "markdown",
      "metadata": {
        "id": "FL0axmNHiIf0"
      },
      "source": [
        "en c/c++\n",
        "\n",
        "```c++\n",
        "expr ? a : b\n",
        "```\n",
        "\n",
        "en python\n",
        "\n",
        "```python\n",
        "a if expre else b\n",
        "```"
      ]
    },
    {
      "cell_type": "code",
      "metadata": {
        "colab": {
          "base_uri": "https://localhost:8080/"
        },
        "id": "dsbQqgZRiQG3",
        "outputId": "60557c5b-4da2-489a-8074-fb89f269a1df"
      },
      "source": [
        "res = dcmax(a, 0, len(a) - 1)\n",
        "assert res == 29\n",
        "print(res)"
      ],
      "execution_count": null,
      "outputs": [
        {
          "output_type": "stream",
          "name": "stdout",
          "text": [
            "29\n"
          ]
        }
      ]
    },
    {
      "cell_type": "markdown",
      "metadata": {
        "id": "aQRt5Gdqie61"
      },
      "source": [
        "$$ T(n) = 2T(\\frac{n}{2}) + O(1) $$\n",
        "\n",
        "so we have:\n",
        "\n",
        "$$\n",
        "a = 2\\\\\n",
        "b = 2\\\\\n",
        "k = 0\n",
        "$$\n",
        "\n",
        "Then using the master theorem:\n",
        "\n",
        "$$\n",
        "T(n) = n^{\\log_2{2}}\\\\\n",
        "T(n) = n\\\\\n",
        "T(n) \\implies O(n)\n",
        "$$"
      ]
    },
    {
      "cell_type": "code",
      "metadata": {
        "colab": {
          "base_uri": "https://localhost:8080/"
        },
        "id": "vtjOMQxJaaf8",
        "outputId": "da930306-9c8c-4685-958e-40ef5584c402"
      },
      "source": [
        "bigboy = list(range(10000))\n",
        "random.shuffle(bigboy)\n",
        "%timeit bfmax(bigboy)\n",
        "%timeit dcmax(bigboy, 0, 9999)"
      ],
      "execution_count": null,
      "outputs": [
        {
          "output_type": "stream",
          "name": "stdout",
          "text": [
            "1000 loops, best of 5: 769 µs per loop\n",
            "100 loops, best of 5: 4.51 ms per loop\n"
          ]
        }
      ]
    },
    {
      "cell_type": "markdown",
      "metadata": {
        "id": "yry0-Ea7Syeh"
      },
      "source": [
        "## Sumarize list elements\n"
      ]
    },
    {
      "cell_type": "code",
      "metadata": {
        "id": "OO64fniSSw3S"
      },
      "source": [
        "def _sumarize(a, i, f):\n",
        "  if i == f:\n",
        "    return a[i]\n",
        "  else:\n",
        "    mid = (i + f) // 2\n",
        "    s1 = _sumarize(a, i, mid)\n",
        "    s2 = _sumarize(a, mid + 1, f)\n",
        "    return s1 + s2\n",
        "\n",
        "def sumarize(a):\n",
        "  return _sumarize(a, 0, len(a) - 1)"
      ],
      "execution_count": null,
      "outputs": []
    },
    {
      "cell_type": "code",
      "metadata": {
        "colab": {
          "base_uri": "https://localhost:8080/"
        },
        "id": "zHkqyspATVwK",
        "outputId": "33a1a3d6-1be5-4766-fa9a-70ebf0b9b00e"
      },
      "source": [
        "res = sumarize(a)\n",
        "assert res == sum(a)\n",
        "res"
      ],
      "execution_count": null,
      "outputs": [
        {
          "output_type": "execute_result",
          "data": {
            "text/plain": [
              "435"
            ]
          },
          "metadata": {},
          "execution_count": 29
        }
      ]
    },
    {
      "cell_type": "markdown",
      "metadata": {
        "id": "hIIrF9gVuvOO"
      },
      "source": [
        "## Matrix Multiplication\n",
        "\n",
        "for matrixes where $n = 2^k \\,,\\, k \\in N$"
      ]
    },
    {
      "cell_type": "markdown",
      "metadata": {
        "id": "qS1Jj7H3u9ph"
      },
      "source": [
        "### Classic way"
      ]
    },
    {
      "cell_type": "code",
      "metadata": {
        "id": "5wEd26X4ibM1"
      },
      "source": [
        "def matmul(a, b):\n",
        "  n = len(a)\n",
        "  c = [[0]*n for _ in range(n)]\n",
        "  for i in range(n):\n",
        "    for j in range(n):\n",
        "      accum = 0\n",
        "      for k in range(n):\n",
        "        accum += a[i][k] * b[k][j]\n",
        "      c[i][j] = accum\n",
        "  return c"
      ],
      "execution_count": null,
      "outputs": []
    },
    {
      "cell_type": "code",
      "metadata": {
        "id": "oKAjGnctvfjS"
      },
      "source": [
        "import numpy as np"
      ],
      "execution_count": null,
      "outputs": []
    },
    {
      "cell_type": "code",
      "metadata": {
        "colab": {
          "base_uri": "https://localhost:8080/"
        },
        "id": "c0v5kAJnvjBm",
        "outputId": "f818f20a-155b-4638-c5b4-b7f89bdd89ac"
      },
      "source": [
        "n = 8\n",
        "a = np.array(list(range(n*n))).reshape((n, n))\n",
        "b = np.array(list(range(n*n))).reshape((n, n))\n",
        "print(a)\n",
        "print(b)"
      ],
      "execution_count": null,
      "outputs": [
        {
          "output_type": "stream",
          "name": "stdout",
          "text": [
            "[[ 0  1  2  3  4  5  6  7]\n",
            " [ 8  9 10 11 12 13 14 15]\n",
            " [16 17 18 19 20 21 22 23]\n",
            " [24 25 26 27 28 29 30 31]\n",
            " [32 33 34 35 36 37 38 39]\n",
            " [40 41 42 43 44 45 46 47]\n",
            " [48 49 50 51 52 53 54 55]\n",
            " [56 57 58 59 60 61 62 63]]\n",
            "[[ 0  1  2  3  4  5  6  7]\n",
            " [ 8  9 10 11 12 13 14 15]\n",
            " [16 17 18 19 20 21 22 23]\n",
            " [24 25 26 27 28 29 30 31]\n",
            " [32 33 34 35 36 37 38 39]\n",
            " [40 41 42 43 44 45 46 47]\n",
            " [48 49 50 51 52 53 54 55]\n",
            " [56 57 58 59 60 61 62 63]]\n"
          ]
        }
      ]
    },
    {
      "cell_type": "code",
      "metadata": {
        "colab": {
          "base_uri": "https://localhost:8080/"
        },
        "id": "674GSlc7vudz",
        "outputId": "222e4c42-babc-41e9-9c6c-db5dc1a23698"
      },
      "source": [
        "c = matmul(a, b)\n",
        "np.array(c)"
      ],
      "execution_count": null,
      "outputs": [
        {
          "output_type": "execute_result",
          "data": {
            "text/plain": [
              "array([[ 1120,  1148,  1176,  1204,  1232,  1260,  1288,  1316],\n",
              "       [ 2912,  3004,  3096,  3188,  3280,  3372,  3464,  3556],\n",
              "       [ 4704,  4860,  5016,  5172,  5328,  5484,  5640,  5796],\n",
              "       [ 6496,  6716,  6936,  7156,  7376,  7596,  7816,  8036],\n",
              "       [ 8288,  8572,  8856,  9140,  9424,  9708,  9992, 10276],\n",
              "       [10080, 10428, 10776, 11124, 11472, 11820, 12168, 12516],\n",
              "       [11872, 12284, 12696, 13108, 13520, 13932, 14344, 14756],\n",
              "       [13664, 14140, 14616, 15092, 15568, 16044, 16520, 16996]])"
            ]
          },
          "metadata": {},
          "execution_count": 38
        }
      ]
    },
    {
      "cell_type": "markdown",
      "metadata": {
        "id": "4v58lrYPv6Xd"
      },
      "source": [
        "### Divide and conquer way"
      ]
    },
    {
      "cell_type": "code",
      "metadata": {
        "id": "jVj3uWPKv1U-"
      },
      "source": [
        "def dcmatmul(a, b, c, ri, rf, ci, cf):\n",
        "  n = len(a)\n",
        "  if ri == rf:\n",
        "    accum = 0\n",
        "    for k in range(n):\n",
        "      accum += a[ri][k] * b[k][cf]\n",
        "\n",
        "    c[ri][cf] = accum\n",
        "  else:\n",
        "    rmid = (ri + rf) // 2\n",
        "    cmid = (ci + cf) // 2\n",
        "    dcmatmul(a, b, c, ri, rmid, ci, cmid)\n",
        "    dcmatmul(a, b, c, rmid+1, rf, ci, cmid)\n",
        "    dcmatmul(a, b, c, ri, rmid, cmid +1, cf)\n",
        "    dcmatmul(a, b, c, rmid+1, rf, cmid + 1, cf)"
      ],
      "execution_count": null,
      "outputs": []
    },
    {
      "cell_type": "code",
      "metadata": {
        "colab": {
          "base_uri": "https://localhost:8080/"
        },
        "id": "a7Law5vNw-hV",
        "outputId": "f431099f-ee98-4ab1-bf32-db28f511a23f"
      },
      "source": [
        "n = 8\n",
        "a = np.array(list(range(n*n))).reshape((n, n))\n",
        "b = np.array(list(range(n*n))).reshape((n, n))\n",
        "c = np.zeros((n, n))\n",
        "dcmatmul(a, b, c, 0, n-1, 0, n-1)\n",
        "print(c)"
      ],
      "execution_count": null,
      "outputs": [
        {
          "output_type": "stream",
          "name": "stdout",
          "text": [
            "[[ 1120.  1148.  1176.  1204.  1232.  1260.  1288.  1316.]\n",
            " [ 2912.  3004.  3096.  3188.  3280.  3372.  3464.  3556.]\n",
            " [ 4704.  4860.  5016.  5172.  5328.  5484.  5640.  5796.]\n",
            " [ 6496.  6716.  6936.  7156.  7376.  7596.  7816.  8036.]\n",
            " [ 8288.  8572.  8856.  9140.  9424.  9708.  9992. 10276.]\n",
            " [10080. 10428. 10776. 11124. 11472. 11820. 12168. 12516.]\n",
            " [11872. 12284. 12696. 13108. 13520. 13932. 14344. 14756.]\n",
            " [13664. 14140. 14616. 15092. 15568. 16044. 16520. 16996.]]\n"
          ]
        }
      ]
    },
    {
      "cell_type": "code",
      "metadata": {
        "id": "k0Si2fUFxHGR"
      },
      "source": [
        "import pdb\n",
        "\n",
        "def dcmatmul(a, b, c, ri, rf, ci, cf):\n",
        "  n = len(a)\n",
        "  #pdb.set_trace()\n",
        "  if ri == rf and ci == cf:\n",
        "    accum = 0\n",
        "    for k in range(n):\n",
        "      accum += a[ri][k] * b[k][cf]\n",
        "\n",
        "    c[ri][cf] = accum\n",
        "  elif ri == rf:\n",
        "    cmid = (ci + cf) // 2\n",
        "    dcmatmul(a, b, c, ri, rf, ci, cmid)\n",
        "    dcmatmul(a, b, c, ri, rf, cmid + 1, cf)\n",
        "  elif ci == cf:\n",
        "    rmid = (ri + rf) // 2\n",
        "    dcmatmul(a, b, c, ri, rmid, ci, cf)\n",
        "    dcmatmul(a, b, c, rmid+1, rf, ci, cf)\n",
        "  else:\n",
        "    rmid = (ri + rf) // 2\n",
        "    cmid = (ci + cf) // 2\n",
        "    dcmatmul(a, b, c, ri, rmid, ci, cmid)\n",
        "    dcmatmul(a, b, c, rmid+1, rf, ci, cmid)\n",
        "    dcmatmul(a, b, c, ri, rmid, cmid +1, cf)\n",
        "    dcmatmul(a, b, c, rmid+1, rf, cmid + 1, cf)"
      ],
      "execution_count": null,
      "outputs": []
    },
    {
      "cell_type": "code",
      "metadata": {
        "colab": {
          "base_uri": "https://localhost:8080/"
        },
        "id": "aQB9Mce5EWbt",
        "outputId": "3ab26c4e-4bee-4a8a-82dc-5c15eaca525c"
      },
      "source": [
        "a = np.array(list(range(9))).reshape(3, 3)\n",
        "b = np.array(list(range(9))).reshape(3, 3)\n",
        "c = matmul(a, b)\n",
        "np.array(c)"
      ],
      "execution_count": null,
      "outputs": [
        {
          "output_type": "execute_result",
          "data": {
            "text/plain": [
              "array([[ 15,  18,  21],\n",
              "       [ 42,  54,  66],\n",
              "       [ 69,  90, 111]])"
            ]
          },
          "metadata": {},
          "execution_count": 20
        }
      ]
    },
    {
      "cell_type": "code",
      "metadata": {
        "colab": {
          "base_uri": "https://localhost:8080/"
        },
        "id": "9idGufjwEmg2",
        "outputId": "24e7b278-cc1a-4169-9961-853b1350a4ca"
      },
      "source": [
        "c = np.zeros((3, 3))\n",
        "dcmatmul(a, b, c, 0, 2, 0, 2)\n",
        "c"
      ],
      "execution_count": null,
      "outputs": [
        {
          "output_type": "execute_result",
          "data": {
            "text/plain": [
              "array([[ 15.,  18.,  21.],\n",
              "       [ 42.,  54.,  66.],\n",
              "       [  0.,  90., 111.]])"
            ]
          },
          "metadata": {},
          "execution_count": 23
        }
      ]
    },
    {
      "cell_type": "code",
      "metadata": {
        "id": "lHTBOHQGE5pH"
      },
      "source": [
        ""
      ],
      "execution_count": null,
      "outputs": []
    }
  ]
}