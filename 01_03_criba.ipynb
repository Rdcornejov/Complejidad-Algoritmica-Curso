{
  "nbformat": 4,
  "nbformat_minor": 0,
  "metadata": {
    "colab": {
      "name": "01-03-criba.ipynb",
      "provenance": [],
      "authorship_tag": "ABX9TyOKVDz8ckj/cgh0MNYJ793H",
      "include_colab_link": true
    },
    "kernelspec": {
      "name": "python3",
      "display_name": "Python 3"
    },
    "language_info": {
      "name": "python"
    }
  },
  "cells": [
    {
      "cell_type": "markdown",
      "metadata": {
        "id": "view-in-github",
        "colab_type": "text"
      },
      "source": [
        "<a href=\"https://colab.research.google.com/github/lmcanavals/algorithmic_complexity/blob/main/01_03_criba.ipynb\" target=\"_parent\"><img src=\"https://colab.research.google.com/assets/colab-badge.svg\" alt=\"Open In Colab\"/></a>"
      ]
    },
    {
      "cell_type": "code",
      "metadata": {
        "colab": {
          "base_uri": "https://localhost:8080/"
        },
        "id": "gnYKyi2Txskk",
        "outputId": "7bdd8f4f-0b2b-4ebf-94f6-c173e9b2470e"
      },
      "source": [
        "def mark(n):\n",
        "    if n < 2:\n",
        "        return\n",
        "    numbers = list(range(2,n + 1))\n",
        "    numbers2 = list(range(2,n + 1))\n",
        "    for i in range(n - 1):\n",
        "        for j in range(i + 1, n - 2):\n",
        "            if numbers[j] % numbers[i] == 0:\n",
        "                numbers2[j] = -1\n",
        "    primes = list()\n",
        "    for k in range(n - 2):\n",
        "        if numbers2[k] != -1:\n",
        "            primes.append(numbers[k])\n",
        "    return primes\n",
        "\n",
        "primes = mark(100)\n",
        "\n",
        "print(primes)"
      ],
      "execution_count": null,
      "outputs": [
        {
          "output_type": "stream",
          "text": [
            "[2, 3, 5, 7, 11, 13, 17, 19, 23, 29, 31, 37, 41, 43, 47, 53, 59, 61, 67, 71, 73, 79, 83, 89, 97]\n"
          ],
          "name": "stdout"
        }
      ]
    },
    {
      "cell_type": "code",
      "metadata": {
        "colab": {
          "base_uri": "https://localhost:8080/"
        },
        "id": "l02CnN4P0TdM",
        "outputId": "d43e6700-5358-476a-d9b4-1af425f4c4e1"
      },
      "source": [
        "%timeit mark(100)\n",
        "%timeit mark(500)\n",
        "%timeit mark(1000)"
      ],
      "execution_count": null,
      "outputs": [
        {
          "output_type": "stream",
          "text": [
            "1000 loops, best of 5: 520 µs per loop\n",
            "100 loops, best of 5: 13.5 ms per loop\n",
            "10 loops, best of 5: 54.9 ms per loop\n"
          ],
          "name": "stdout"
        }
      ]
    },
    {
      "cell_type": "code",
      "metadata": {
        "id": "0PnvNYUyxSWz"
      },
      "source": [
        "def crib(n):                            # T(n) =\n",
        "  if n >= 2:                            #   1 +\n",
        "    numbers = list(range(n+1))          #     n + 2\n",
        "    primes = []                         #     1\n",
        "    for i in range(2, n+1):             #     1 + (n - 1) *\n",
        "      if numbers[i] > 0:                #       2 +\n",
        "        primes.append(i)                #         1\n",
        "        for j in range(i * 2, n+1, i):  #         2 + n/2 *\n",
        "          numbers[j] = -i               #           3\n",
        "        #print(numbers)\n",
        "  return primes\n",
        "  "
      ],
      "execution_count": null,
      "outputs": []
    },
    {
      "cell_type": "markdown",
      "metadata": {
        "id": "4Kw0H7V97gwq"
      },
      "source": [
        "$ T(n) = 1 + n + 2 + 1 + 1 + (n-1)\\times(2 + 1 + 2 + \\frac{3n}{2}) $\n",
        "\n",
        "$ T(n) = n + 5 + (n-1)\\times(\\frac{3n}{2} + 5) $\n",
        "\n",
        "$ T(n) = \\frac{3n^2}{2} + \\frac{9n}{2} $\n",
        "\n",
        "$ T(n) \\implies O(n^2) $"
      ]
    },
    {
      "cell_type": "code",
      "metadata": {
        "colab": {
          "base_uri": "https://localhost:8080/"
        },
        "id": "aFR9WQE1yb67",
        "outputId": "f695cabd-50f2-4213-eb79-ea8e038d0d41"
      },
      "source": [
        "%timeit crib(100)\n",
        "%timeit crib(500)\n",
        "%timeit crib(1000)"
      ],
      "execution_count": null,
      "outputs": [
        {
          "output_type": "stream",
          "text": [
            "10000 loops, best of 5: 24.7 µs per loop\n",
            "10000 loops, best of 5: 135 µs per loop\n",
            "1000 loops, best of 5: 277 µs per loop\n"
          ],
          "name": "stdout"
        }
      ]
    },
    {
      "cell_type": "code",
      "metadata": {
        "colab": {
          "base_uri": "https://localhost:8080/"
        },
        "id": "Lg1BdpkUyd60",
        "outputId": "7e1f6eef-9902-4e9e-f9af-beecf458ffbe"
      },
      "source": [
        "def criba_eratostenes(n):  \n",
        "  primos=[]\n",
        "  no_primos=[]\n",
        " \n",
        "  for i in range(2, n+1):\n",
        "    if i not in no_primos:\n",
        "      primos.append(i)\n",
        "\n",
        "      for j in range(i*i, n+1, i):\n",
        "        no_primos.append(j)\n",
        "\n",
        "  return primos\n",
        "\n",
        "print(criba_eratostenes(20))"
      ],
      "execution_count": null,
      "outputs": [
        {
          "output_type": "stream",
          "text": [
            "[2, 3, 5, 7, 11, 13, 17, 19]\n"
          ],
          "name": "stdout"
        }
      ]
    },
    {
      "cell_type": "code",
      "metadata": {
        "colab": {
          "base_uri": "https://localhost:8080/"
        },
        "id": "kVA1hSp60lVk",
        "outputId": "cb3b9e3d-def3-46ef-a004-3652c3e85e37"
      },
      "source": [
        "%timeit criba_eratostenes(100)\n",
        "%timeit criba_eratostenes(500)\n",
        "%timeit criba_eratostenes(1000)"
      ],
      "execution_count": null,
      "outputs": [
        {
          "output_type": "stream",
          "text": [
            "10000 loops, best of 5: 94.8 µs per loop\n",
            "100 loops, best of 5: 2.18 ms per loop\n",
            "100 loops, best of 5: 9.09 ms per loop\n"
          ],
          "name": "stdout"
        }
      ]
    },
    {
      "cell_type": "code",
      "metadata": {
        "id": "__IhnmT40xi-"
      },
      "source": [
        ""
      ],
      "execution_count": null,
      "outputs": []
    }
  ]
}