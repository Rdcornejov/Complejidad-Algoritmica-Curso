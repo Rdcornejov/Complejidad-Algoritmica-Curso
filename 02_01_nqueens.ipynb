{
  "nbformat": 4,
  "nbformat_minor": 0,
  "metadata": {
    "colab": {
      "name": "02-01-nqueens.ipynb",
      "provenance": [],
      "authorship_tag": "ABX9TyO/yAzaZeN9QiOuU4L4mTdv",
      "include_colab_link": true
    },
    "kernelspec": {
      "name": "python3",
      "display_name": "Python 3"
    },
    "language_info": {
      "name": "python"
    }
  },
  "cells": [
    {
      "cell_type": "markdown",
      "metadata": {
        "id": "view-in-github",
        "colab_type": "text"
      },
      "source": [
        "<a href=\"https://colab.research.google.com/github/lmcanavals/algorithmic_complexity/blob/main/02_01_nqueens.ipynb\" target=\"_parent\"><img src=\"https://colab.research.google.com/assets/colab-badge.svg\" alt=\"Open In Colab\"/></a>"
      ]
    },
    {
      "cell_type": "markdown",
      "metadata": {
        "id": "1gPMsFPVFEk-"
      },
      "source": [
        "# Nqueens (backtracking)"
      ]
    },
    {
      "cell_type": "code",
      "metadata": {
        "id": "YIORgYf-zqtK"
      },
      "source": [
        "import numpy as np\n",
        "import matplotlib.pyplot as plt"
      ],
      "execution_count": 54,
      "outputs": []
    },
    {
      "cell_type": "code",
      "metadata": {
        "id": "dJMvPA_9z402"
      },
      "source": [
        "def draw(board):\n",
        "  n = len(board)\n",
        "  b = np.zeros((n, n, 3), dtype=np.int)\n",
        "  b += [255, 150, 80]\n",
        "  b[::2, ::2] = [255, 220, 150]\n",
        "  b[1::2, 1::2] = [255, 220, 150]\n",
        "\n",
        "  _, ax = plt.subplots()\n",
        "  ax.imshow(b)\n",
        "  for row, col in enumerate(board):\n",
        "    ax.text(col, row, u\"\\u265b\", fontsize=200/n, va=\"center\", ha=\"center\")\n",
        "\n",
        "  ax.set(xticks=[], yticks=[])\n",
        "  ax.axis(\"image\")"
      ],
      "execution_count": 82,
      "outputs": []
    },
    {
      "cell_type": "code",
      "metadata": {
        "colab": {
          "base_uri": "https://localhost:8080/",
          "height": 252
        },
        "id": "glUUISPD55Zm",
        "outputId": "c9a76f1d-3c71-43d7-ed95-35b25eb00972"
      },
      "source": [
        "draw([2, 7, 0, 5, 6, 3, 1, 4])"
      ],
      "execution_count": 85,
      "outputs": [
        {
          "output_type": "display_data",
          "data": {
            "image/png": "[encoded data removed]",
            "text/plain": [
              "<Figure size 432x288 with 1 Axes>"
            ]
          },
          "metadata": {}
        }
      ]
    },
    {
      "cell_type": "code",
      "metadata": {
        "id": "STu7Yv4S8xq4"
      },
      "source": [
        "def valid(board, row, col):\n",
        "  n = len(board)\n",
        "  for row_i in range(row):\n",
        "    col_i = board[row_i]\n",
        "    delta = row - row_i\n",
        "    if col_i == col or col_i - delta == col or col_i + delta == col:\n",
        "      return False\n",
        "  \n",
        "  return True"
      ],
      "execution_count": 103,
      "outputs": []
    },
    {
      "cell_type": "code",
      "metadata": {
        "colab": {
          "base_uri": "https://localhost:8080/",
          "height": 252
        },
        "id": "oMn7k55S6BCt",
        "outputId": "db6bdb61-dab1-4cb3-d7a3-3555ce60d249"
      },
      "source": [
        "board = [0, 0, -1, -1]\n",
        "draw(board)\n",
        "assert valid(board, 1, 0) == False"
      ],
      "execution_count": 104,
      "outputs": [
        {
          "output_type": "display_data",
          "data": {
            "image/png": "[encoded data removed]",
            "text/plain": [
              "<Figure size 432x288 with 1 Axes>"
            ]
          },
          "metadata": {}
        }
      ]
    },
    {
      "cell_type": "code",
      "metadata": {
        "colab": {
          "base_uri": "https://localhost:8080/",
          "height": 252
        },
        "id": "S9ujJRYS8kZP",
        "outputId": "8b49b136-6119-4c21-c1f1-5b449afcad35"
      },
      "source": [
        "board = [1, 3, 0, -1]\n",
        "draw(board)\n",
        "assert valid(board, 2, 0) == True"
      ],
      "execution_count": 105,
      "outputs": [
        {
          "output_type": "display_data",
          "data": {
            "image/png": "[encoded data removed]",
            "text/plain": [
              "<Figure size 432x288 with 1 Axes>"
            ]
          },
          "metadata": {}
        }
      ]
    },
    {
      "cell_type": "code",
      "metadata": {
        "colab": {
          "base_uri": "https://localhost:8080/",
          "height": 252
        },
        "id": "-mZvhmR79RVJ",
        "outputId": "d79d6342-f029-4c22-f62f-e85cf51b26ab"
      },
      "source": [
        "board = [1, 3, 2, -1]\n",
        "draw(board)\n",
        "assert valid(board, 2, 2) == False"
      ],
      "execution_count": 106,
      "outputs": [
        {
          "output_type": "display_data",
          "data": {
            "image/png": "[encoded data removed]",
            "text/plain": [
              "<Figure size 432x288 with 1 Axes>"
            ]
          },
          "metadata": {}
        }
      ]
    },
    {
      "cell_type": "code",
      "metadata": {
        "id": "SxKFPD3A9mE-"
      },
      "source": [
        "def nqueens(board, row):\n",
        "  n = len(board)\n",
        "  if row == n:\n",
        "    draw(board)\n",
        "  else:\n",
        "    for col_i in range(n):\n",
        "      if valid(board, row, col_i):\n",
        "        board[row] = col_i\n",
        "        nqueens(board, row + 1)"
      ],
      "execution_count": 107,
      "outputs": []
    },
    {
      "cell_type": "code",
      "metadata": {
        "colab": {
          "base_uri": "https://localhost:8080/"
        },
        "id": "H66zn-HP98F_",
        "outputId": "4c570607-c6cf-4f4e-d66d-b696410e0a1c"
      },
      "source": [
        "[-1]*10"
      ],
      "execution_count": 108,
      "outputs": [
        {
          "output_type": "execute_result",
          "data": {
            "text/plain": [
              "[-1, -1, -1, -1, -1, -1, -1, -1, -1, -1]"
            ]
          },
          "metadata": {},
          "execution_count": 108
        }
      ]
    },
    {
      "cell_type": "code",
      "metadata": {
        "colab": {
          "base_uri": "https://localhost:8080/",
          "height": 487
        },
        "id": "v-2dx6Zn_DE6",
        "outputId": "24e7f0fa-19ae-49f7-b69e-640db7b417c9"
      },
      "source": [
        "n = 4\n",
        "nqueens([-1]*n, 0)"
      ],
      "execution_count": 111,
      "outputs": [
        {
          "output_type": "display_data",
          "data": {
            "image/png": "[encoded data removed]",
            "text/plain": [
              "<Figure size 432x288 with 1 Axes>"
            ]
          },
          "metadata": {}
        },
        {
          "output_type": "display_data",
          "data": {
            "image/png": "[encoded data removed]",
            "text/plain": [
              "<Figure size 432x288 with 1 Axes>"
            ]
          },
          "metadata": {}
        }
      ]
    },
    {
      "cell_type": "code",
      "metadata": {
        "id": "nM5By21e_Hzg"
      },
      "source": [
        ""
      ],
      "execution_count": null,
      "outputs": []
    }
  ]
}