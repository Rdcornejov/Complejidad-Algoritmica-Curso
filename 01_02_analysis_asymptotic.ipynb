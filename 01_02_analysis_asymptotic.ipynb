{
  "nbformat": 4,
  "nbformat_minor": 0,
  "metadata": {
    "colab": {
      "name": "01-02-analysis_asymptotic.ipynb",
      "provenance": [],
      "authorship_tag": "ABX9TyOmsa1li2Xei+gjuhQfBptT",
      "include_colab_link": true
    },
    "kernelspec": {
      "name": "python3",
      "display_name": "Python 3"
    },
    "language_info": {
      "name": "python"
    }
  },
  "cells": [
    {
      "cell_type": "markdown",
      "metadata": {
        "id": "view-in-github",
        "colab_type": "text"
      },
      "source": [
        "<a href=\"https://colab.research.google.com/github/lmcanavals/algorithmic_complexity/blob/main/01_02_analysis_asymptotic.ipynb\" target=\"_parent\"><img src=\"https://colab.research.google.com/assets/colab-badge.svg\" alt=\"Open In Colab\"/></a>"
      ]
    },
    {
      "cell_type": "markdown",
      "metadata": {
        "id": "Ofug8fZyLMUU"
      },
      "source": [
        "# Asymptotic Analysis"
      ]
    },
    {
      "cell_type": "markdown",
      "metadata": {
        "id": "abxw1G_wLWDU"
      },
      "source": [
        "## Quick recap"
      ]
    },
    {
      "cell_type": "code",
      "metadata": {
        "id": "htuOsjDKIwJB"
      },
      "source": [
        "def selectionSort(a):                     # T(n) =\n",
        "  n = len(a)                              #   2\n",
        "  for i in range(n - 1):                  #   1 + (n - 1) *\n",
        "    minIdx = i                            #     1\n",
        "    for j in range(i + 1, n):             #     1 + (n / 2) *\n",
        "      if a[j] < a[minIdx]:                #       3 +\n",
        "        minIdx = j                        #         1\n",
        "    if i != minIdx:                       #     1 +\n",
        "      a[i], a[minIdx] = a[minIdx], a[i]   #       6"
      ],
      "execution_count": null,
      "outputs": []
    },
    {
      "cell_type": "markdown",
      "metadata": {
        "id": "tG6mRW5ZKC_u"
      },
      "source": [
        "Expresión detallada:\n",
        "\n",
        "$ T(n)=3+(n-1)\\times(2+\\frac{n}{2}\\times(3+1)+1+6) $\n",
        "\n",
        "$ T(n)=3+(n-1)\\times(2n+9) $\n",
        "\n",
        "$ T(n)=2n^2 + 7n -6 $\n",
        "\n",
        "$ T(n) \\implies O(n^2) $"
      ]
    },
    {
      "cell_type": "markdown",
      "metadata": {
        "id": "3o25al71LY7N"
      },
      "source": [
        "## Recursive functions"
      ]
    },
    {
      "cell_type": "code",
      "metadata": {
        "id": "2MapaI3GRWUc"
      },
      "source": [
        "def merge(a, ini, fin):                       # T(n) = \n",
        "  mid = (ini + fin) // 2                      #   3\n",
        "  i = ini                                     #   1\n",
        "  j = mid + 1                                 #   2\n",
        "  n = fin - ini + 1                           #   3\n",
        "  temp = [0]*n                                #   1 + n\n",
        "  for k in range(n):                          #   n *\n",
        "    if j > fin or (i <= mid and a[i] < a[j]): #     7 + max(then, else)\n",
        "      temp[k] = a[i]                          #       3\n",
        "      i += 1                                  #       2\n",
        "    else:\n",
        "      temp[k] = a[j]                          #       3\n",
        "      j += 1                                  #       2\n",
        "\n",
        "  for k in range(n):                          #   n\n",
        "    a[ini + k] = temp[k]                      #     4"
      ],
      "execution_count": null,
      "outputs": []
    },
    {
      "cell_type": "markdown",
      "metadata": {
        "id": "pFYKAEROQ-pX"
      },
      "source": [
        "$ T(n) = 10 + n + 12n + 4n $\n",
        "\n",
        "$ T(n) = 17n + 10 $\n",
        "\n",
        "$ T(n) \\implies O(n) $"
      ]
    },
    {
      "cell_type": "code",
      "metadata": {
        "id": "b4O3N3gSR4xV"
      },
      "source": [
        "def mergeSort(a, ini, fin):     # T(n) =\n",
        "  if ini < fin:                 #   1 +\n",
        "    mid = (ini + fin) // 2      #     3\n",
        "    mergeSort(a, ini, mid)      #     T(n/2)\n",
        "    mergeSort(a, mid + 1, fin)  #     T(n/2)\n",
        "    merge(a, ini, fin)          #     O(n)"
      ],
      "execution_count": null,
      "outputs": []
    },
    {
      "cell_type": "markdown",
      "metadata": {
        "id": "eGafn8ABSO_t"
      },
      "source": [
        "$ T(n) = 2T(\\frac{n}{2}) + O(n) + 4 $"
      ]
    },
    {
      "cell_type": "markdown",
      "metadata": {
        "id": "Y8_ieA13N-4k"
      },
      "source": [
        "## Deductivo analysis"
      ]
    }
  ]
}