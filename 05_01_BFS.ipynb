{
  "nbformat": 4,
  "nbformat_minor": 0,
  "metadata": {
    "colab": {
      "name": "05-01-BFS.ipynb",
      "provenance": [],
      "authorship_tag": "ABX9TyMEAJC7wdoeXelp5VUVwBpZ",
      "include_colab_link": true
    },
    "kernelspec": {
      "name": "python3",
      "display_name": "Python 3"
    },
    "language_info": {
      "name": "python"
    }
  },
  "cells": [
    {
      "cell_type": "markdown",
      "metadata": {
        "id": "view-in-github",
        "colab_type": "text"
      },
      "source": [
        "<a href=\"https://colab.research.google.com/github/lmcanavals/algorithmic_complexity/blob/main/05_01_BFS.ipynb\" target=\"_parent\"><img src=\"https://colab.research.google.com/assets/colab-badge.svg\" alt=\"Open In Colab\"/></a>"
      ]
    },
    {
      "cell_type": "markdown",
      "metadata": {
        "id": "xwIN8RWBEZt2"
      },
      "source": [
        "# Breadth First Search\n",
        "\n",
        "BFS para los amigos"
      ]
    },
    {
      "cell_type": "code",
      "metadata": {
        "id": "45gvwsnBEVaY"
      },
      "source": [
        "import graphviz as gv\n",
        "import numpy as np\n",
        "import pandas as pd"
      ],
      "execution_count": null,
      "outputs": []
    },
    {
      "cell_type": "code",
      "metadata": {
        "id": "y8pI48N0ElI9"
      },
      "source": [
        "def readAdjl(fn, haslabels=False, weighted=False, sep=\"|\"):\n",
        "  with open(fn) as f:\n",
        "    labels = None\n",
        "    if haslabels:\n",
        "      labels = f.readline().strip().split()\n",
        "    L = []\n",
        "    for line in f:\n",
        "      if weighted:\n",
        "        L.append([tuple(map(int, p.split(sep))) for p in line.strip().split()])\n",
        "        # line => \"1|3 2|5 4|4\" ==> [(1, 3), (2, 5), (4, 4)]\n",
        "      else: \n",
        "        L.append(list(map(int, line.strip().split()))) # \"1 3 5\" => [1, 3, 5]\n",
        "        # L.append([int(x) for x in line.strip().split()])\n",
        "  return L, labels\n",
        "\n",
        "def adjlShow(L, labels=None, directed=False, weighted=False, path=[],\n",
        "             layout=\"sfdp\"):\n",
        "  g = gv.Digraph(\"G\") if directed else gv.Graph(\"G\")\n",
        "  g.graph_attr[\"layout\"] = layout\n",
        "  g.edge_attr[\"color\"] = \"gray\"\n",
        "  g.node_attr[\"color\"] = \"orangered\"\n",
        "  g.node_attr[\"width\"] = \"0.1\"\n",
        "  g.node_attr[\"height\"] = \"0.1\"\n",
        "  g.node_attr[\"fontsize\"] = \"8\"\n",
        "  g.node_attr[\"fontcolor\"] = \"mediumslateblue\"\n",
        "  g.node_attr[\"fontname\"] = \"monospace\"\n",
        "  n = len(L)\n",
        "  for u in range(n):\n",
        "    g.node(str(u), labels[u] if labels else str(u))\n",
        "  added = set()\n",
        "  for v, u in enumerate(path):\n",
        "    if u != None:\n",
        "      g.edge(str(u), str(v), dir=\"forward\", penwidth=\"2\", color=\"orange\")\n",
        "      added.add(f\"{u},{v}\")\n",
        "      added.add(f\"{v},{u}\")\n",
        "  if weighted:\n",
        "    for u in range(n):\n",
        "      for v, w in L[u]:\n",
        "        if not directed and not f\"{u},{v}\" in added:\n",
        "          added.add(f\"{u},{v}\")\n",
        "          added.add(f\"{v},{u}\")\n",
        "          g.edge(str(u), str(v), str(w))\n",
        "        elif directed:\n",
        "          g.edge(str(u), str(v), str(w))\n",
        "  else:\n",
        "    for u in range(n):\n",
        "      for v in L[u]:\n",
        "        if not directed and not f\"{u},{v}\" in added:\n",
        "          added.add(f\"{u},{v}\")\n",
        "          added.add(f\"{v},{u}\")\n",
        "          g.edge(str(u), str(v))\n",
        "        elif directed:\n",
        "          g.edge(str(u), str(v))\n",
        "  return g"
      ],
      "execution_count": null,
      "outputs": []
    },
    {
      "cell_type": "code",
      "metadata": {
        "id": "FohkL1rE8Kz_"
      },
      "source": [
        "def bfs(G, s):\n",
        "  n = len(G)\n",
        "  visited = [False]*n\n",
        "  parent = [None]*n\n",
        "  queue = [s]\n",
        "  visited[s] = True\n",
        "\n",
        "  while queue:\n",
        "    u = queue.pop(0)\n",
        "    for v in G[u]:\n",
        "      if not visited[v]:\n",
        "        visited[v] = True\n",
        "        parent[v] = u\n",
        "        queue.append(v)\n",
        "\n",
        "  return parent"
      ],
      "execution_count": null,
      "outputs": []
    },
    {
      "cell_type": "code",
      "metadata": {
        "colab": {
          "base_uri": "https://localhost:8080/"
        },
        "id": "g_OYjTDtGN03",
        "outputId": "33e20fc7-715a-4c42-84b2-bd941e3ac91e"
      },
      "source": [
        "%%file 1.in\n",
        "1 2 4 7\n",
        "0 5\n",
        "0 12\n",
        "6 10\n",
        "0 \n",
        "1 4 6 8\n",
        "3 5 9\n",
        "0 8 14\n",
        "5 7\n",
        "6 10 12 13\n",
        "3 9 13 17\n",
        "12 15\n",
        "2 9 11 15 16\n",
        "9 10\n",
        "7 15\n",
        "11 12 14 16\n",
        "12 15 17\n",
        "10 16"
      ],
      "execution_count": null,
      "outputs": [
        {
          "output_type": "stream",
          "name": "stdout",
          "text": [
            "Writing 1.in\n"
          ]
        }
      ]
    },
    {
      "cell_type": "code",
      "metadata": {
        "colab": {
          "base_uri": "https://localhost:8080/",
          "height": 757
        },
        "id": "OeT-s6y7HVAA",
        "outputId": "ec7ff911-b2df-462a-c973-72bc2abf73a6"
      },
      "source": [
        "G, _ = readAdjl(\"1.in\")\n",
        "for i, edges in enumerate(G):\n",
        "  print(f\"{i:2}: {edges}\")\n",
        "adjlShow(G)"
      ],
      "execution_count": null,
      "outputs": [
        {
          "output_type": "stream",
          "name": "stdout",
          "text": [
            " 0: [1, 2, 4, 7]\n",
            " 1: [0, 5]\n",
            " 2: [0, 12]\n",
            " 3: [6, 10]\n",
            " 4: [0]\n",
            " 5: [1, 4, 6, 8]\n",
            " 6: [3, 5, 9]\n",
            " 7: [0, 8, 14]\n",
            " 8: [5, 7]\n",
            " 9: [6, 10, 12, 13]\n",
            "10: [3, 9, 13, 17]\n",
            "11: [12, 15]\n",
            "12: [2, 9, 11, 15, 16]\n",
            "13: [9, 10]\n",
            "14: [7, 15]\n",
            "15: [11, 12, 14, 16]\n",
            "16: [12, 15, 17]\n",
            "17: [10, 16]\n"
          ]
        },
        {
          "output_type": "execute_result",
          "data": {
            "text/plain": [
              "<graphviz.dot.Graph at 0x7fc06574d9d0>"
            ],
            "image/svg+xml": "<?xml version=\"1.0\" encoding=\"UTF-8\" standalone=\"no\"?>\n<!DOCTYPE svg PUBLIC \"-//W3C//DTD SVG 1.1//EN\"\n \"http://www.w3.org/Graphics/SVG/1.1/DTD/svg11.dtd\">\n<!-- Generated by graphviz version 2.40.1 (20161225.0304)\n -->\n<!-- Title: G Pages: 1 -->\n<svg width=\"424pt\" height=\"310pt\"\n viewBox=\"0.00 0.00 424.13 310.03\" xmlns=\"http://www.w3.org/2000/svg\" xmlns:xlink=\"http://www.w3.org/1999/xlink\">\n<g id=\"graph0\" class=\"graph\" transform=\"scale(1 1) rotate(0) translate(4 306.0315)\">\n<title>G</title>\n<polygon fill=\"#ffffff\" stroke=\"transparent\" points=\"-4,4 -4,-306.0315 420.1326,-306.0315 420.1326,4 -4,4\"/>\n<!-- 0 -->\n<g id=\"node1\" class=\"node\">\n<title>0</title>\n<ellipse fill=\"none\" stroke=\"#ff4500\" cx=\"362.2534\" cy=\"-150.8476\" rx=\"15.6129\" ry=\"12.0417\"/>\n<text text-anchor=\"middle\" x=\"362.2534\" y=\"-148.9476\" font-family=\"monospace\" font-size=\"8.00\" fill=\"#7b68ee\">0</text>\n</g>\n<!-- 1 -->\n<g id=\"node2\" class=\"node\">\n<title>1</title>\n<ellipse fill=\"none\" stroke=\"#ff4500\" cx=\"400.5763\" cy=\"-92.2735\" rx=\"15.6129\" ry=\"12.0417\"/>\n<text text-anchor=\"middle\" x=\"400.5763\" y=\"-90.3735\" font-family=\"monospace\" font-size=\"8.00\" fill=\"#7b68ee\">1</text>\n</g>\n<!-- 0&#45;&#45;1 -->\n<g id=\"edge1\" class=\"edge\">\n<title>0&#45;&#45;1</title>\n<path fill=\"none\" stroke=\"#c0c0c0\" d=\"M369.2824,-140.1042C376.1106,-129.6677 386.4308,-113.894 393.3314,-103.3468\"/>\n</g>\n<!-- 2 -->\n<g id=\"node3\" class=\"node\">\n<title>2</title>\n<ellipse fill=\"none\" stroke=\"#ff4500\" cx=\"257.4394\" cy=\"-184.8039\" rx=\"15.6129\" ry=\"12.0417\"/>\n<text text-anchor=\"middle\" x=\"257.4394\" y=\"-182.9039\" font-family=\"monospace\" font-size=\"8.00\" fill=\"#7b68ee\">2</text>\n</g>\n<!-- 0&#45;&#45;2 -->\n<g id=\"edge2\" class=\"edge\">\n<title>0&#45;&#45;2</title>\n<path fill=\"none\" stroke=\"#c0c0c0\" d=\"M347.6795,-155.5691C327.6545,-162.0565 291.8493,-173.6562 271.8896,-180.1225\"/>\n</g>\n<!-- 4 -->\n<g id=\"node5\" class=\"node\">\n<title>4</title>\n<ellipse fill=\"none\" stroke=\"#ff4500\" cx=\"379.9342\" cy=\"-62.0354\" rx=\"15.6129\" ry=\"12.0417\"/>\n<text text-anchor=\"middle\" x=\"379.9342\" y=\"-60.1354\" font-family=\"monospace\" font-size=\"8.00\" fill=\"#7b68ee\">4</text>\n</g>\n<!-- 0&#45;&#45;4 -->\n<g id=\"edge3\" class=\"edge\">\n<title>0&#45;&#45;4</title>\n<path fill=\"none\" stroke=\"#c0c0c0\" d=\"M364.6379,-138.87C368.0124,-121.9196 374.1464,-91.1083 377.531,-74.1069\"/>\n</g>\n<!-- 7 -->\n<g id=\"node8\" class=\"node\">\n<title>7</title>\n<ellipse fill=\"none\" stroke=\"#ff4500\" cx=\"336.5937\" cy=\"-221.7349\" rx=\"15.6129\" ry=\"12.0417\"/>\n<text text-anchor=\"middle\" x=\"336.5937\" y=\"-219.8349\" font-family=\"monospace\" font-size=\"8.00\" fill=\"#7b68ee\">7</text>\n</g>\n<!-- 0&#45;&#45;7 -->\n<g id=\"edge4\" class=\"edge\">\n<title>0&#45;&#45;7</title>\n<path fill=\"none\" stroke=\"#c0c0c0\" d=\"M358.0162,-162.5532C353.2903,-175.6088 345.6858,-196.6172 340.9229,-209.775\"/>\n</g>\n<!-- 5 -->\n<g id=\"node6\" class=\"node\">\n<title>5</title>\n<ellipse fill=\"none\" stroke=\"#ff4500\" cx=\"314.4073\" cy=\"-60.1079\" rx=\"15.6129\" ry=\"12.0417\"/>\n<text text-anchor=\"middle\" x=\"314.4073\" y=\"-58.2079\" font-family=\"monospace\" font-size=\"8.00\" fill=\"#7b68ee\">5</text>\n</g>\n<!-- 1&#45;&#45;5 -->\n<g id=\"edge5\" class=\"edge\">\n<title>1&#45;&#45;5</title>\n<path fill=\"none\" stroke=\"#c0c0c0\" d=\"M386.3472,-86.962C370.3815,-81.0022 344.6318,-71.3903 328.6575,-65.4273\"/>\n</g>\n<!-- 12 -->\n<g id=\"node13\" class=\"node\">\n<title>12</title>\n<ellipse fill=\"none\" stroke=\"#ff4500\" cx=\"148.3543\" cy=\"-203.5034\" rx=\"19.1842\" ry=\"12.0417\"/>\n<text text-anchor=\"middle\" x=\"148.3543\" y=\"-201.6034\" font-family=\"monospace\" font-size=\"8.00\" fill=\"#7b68ee\">12</text>\n</g>\n<!-- 2&#45;&#45;12 -->\n<g id=\"edge6\" class=\"edge\">\n<title>2&#45;&#45;12</title>\n<path fill=\"none\" stroke=\"#c0c0c0\" d=\"M241.8102,-187.4831C222.0157,-190.8763 187.9534,-196.7153 166.8745,-200.3287\"/>\n</g>\n<!-- 3 -->\n<g id=\"node4\" class=\"node\">\n<title>3</title>\n<ellipse fill=\"none\" stroke=\"#ff4500\" cx=\"110.4763\" cy=\"-12.0208\" rx=\"15.6129\" ry=\"12.0417\"/>\n<text text-anchor=\"middle\" x=\"110.4763\" y=\"-10.1208\" font-family=\"monospace\" font-size=\"8.00\" fill=\"#7b68ee\">3</text>\n</g>\n<!-- 6 -->\n<g id=\"node7\" class=\"node\">\n<title>6</title>\n<ellipse fill=\"none\" stroke=\"#ff4500\" cx=\"194.3882\" cy=\"-37.8019\" rx=\"15.6129\" ry=\"12.0417\"/>\n<text text-anchor=\"middle\" x=\"194.3882\" y=\"-35.9019\" font-family=\"monospace\" font-size=\"8.00\" fill=\"#7b68ee\">6</text>\n</g>\n<!-- 3&#45;&#45;6 -->\n<g id=\"edge7\" class=\"edge\">\n<title>3&#45;&#45;6</title>\n<path fill=\"none\" stroke=\"#c0c0c0\" d=\"M125.0926,-16.5115C140.4002,-21.2146 164.3077,-28.5599 179.6578,-33.2761\"/>\n</g>\n<!-- 10 -->\n<g id=\"node11\" class=\"node\">\n<title>10</title>\n<ellipse fill=\"none\" stroke=\"#ff4500\" cx=\"47.7609\" cy=\"-76.2303\" rx=\"19.1842\" ry=\"12.0417\"/>\n<text text-anchor=\"middle\" x=\"47.7609\" y=\"-74.3303\" font-family=\"monospace\" font-size=\"8.00\" fill=\"#7b68ee\">10</text>\n</g>\n<!-- 3&#45;&#45;10 -->\n<g id=\"edge8\" class=\"edge\">\n<title>3&#45;&#45;10</title>\n<path fill=\"none\" stroke=\"#c0c0c0\" d=\"M100.9512,-21.7729C89.3006,-33.701 69.6677,-53.8017 57.7916,-65.9607\"/>\n</g>\n<!-- 5&#45;&#45;4 -->\n<g id=\"edge9\" class=\"edge\">\n<title>5&#45;&#45;4</title>\n<path fill=\"none\" stroke=\"#c0c0c0\" d=\"M330.2695,-60.5745C340.572,-60.8775 353.9448,-61.2709 364.2181,-61.5731\"/>\n</g>\n<!-- 5&#45;&#45;6 -->\n<g id=\"edge10\" class=\"edge\">\n<title>5&#45;&#45;6</title>\n<path fill=\"none\" stroke=\"#c0c0c0\" d=\"M299.2068,-57.2828C276.2467,-53.0156 232.9543,-44.9695 209.8443,-40.6744\"/>\n</g>\n<!-- 8 -->\n<g id=\"node9\" class=\"node\">\n<title>8</title>\n<ellipse fill=\"none\" stroke=\"#ff4500\" cx=\"331.7777\" cy=\"-137.6153\" rx=\"15.6129\" ry=\"12.0417\"/>\n<text text-anchor=\"middle\" x=\"331.7777\" y=\"-135.7153\" font-family=\"monospace\" font-size=\"8.00\" fill=\"#7b68ee\">8</text>\n</g>\n<!-- 5&#45;&#45;8 -->\n<g id=\"edge11\" class=\"edge\">\n<title>5&#45;&#45;8</title>\n<path fill=\"none\" stroke=\"#c0c0c0\" d=\"M317.1214,-72.2184C320.3847,-86.7794 325.8278,-111.0668 329.0826,-125.5898\"/>\n</g>\n<!-- 9 -->\n<g id=\"node10\" class=\"node\">\n<title>9</title>\n<ellipse fill=\"none\" stroke=\"#ff4500\" cx=\"110.7536\" cy=\"-91.8416\" rx=\"15.6129\" ry=\"12.0417\"/>\n<text text-anchor=\"middle\" x=\"110.7536\" y=\"-89.9416\" font-family=\"monospace\" font-size=\"8.00\" fill=\"#7b68ee\">9</text>\n</g>\n<!-- 6&#45;&#45;9 -->\n<g id=\"edge12\" class=\"edge\">\n<title>6&#45;&#45;9</title>\n<path fill=\"none\" stroke=\"#c0c0c0\" d=\"M182.4054,-45.5444C166.5065,-55.8174 138.6019,-73.8477 122.7142,-84.1134\"/>\n</g>\n<!-- 7&#45;&#45;8 -->\n<g id=\"edge13\" class=\"edge\">\n<title>7&#45;&#45;8</title>\n<path fill=\"none\" stroke=\"#c0c0c0\" d=\"M335.9037,-209.6827C334.9881,-193.6915 333.3813,-165.6251 332.4664,-149.6453\"/>\n</g>\n<!-- 14 -->\n<g id=\"node15\" class=\"node\">\n<title>14</title>\n<ellipse fill=\"none\" stroke=\"#ff4500\" cx=\"262.4364\" cy=\"-285.682\" rx=\"19.1842\" ry=\"12.0417\"/>\n<text text-anchor=\"middle\" x=\"262.4364\" y=\"-283.782\" font-family=\"monospace\" font-size=\"8.00\" fill=\"#7b68ee\">14</text>\n</g>\n<!-- 7&#45;&#45;14 -->\n<g id=\"edge14\" class=\"edge\">\n<title>7&#45;&#45;14</title>\n<path fill=\"none\" stroke=\"#c0c0c0\" d=\"M325.9687,-230.897C312.1918,-242.777 288.2481,-263.4241 274.0184,-275.6946\"/>\n</g>\n<!-- 9&#45;&#45;10 -->\n<g id=\"edge15\" class=\"edge\">\n<title>9&#45;&#45;10</title>\n<path fill=\"none\" stroke=\"#c0c0c0\" d=\"M95.8252,-88.1419C86.8024,-85.9058 75.2436,-83.0412 65.7225,-80.6817\"/>\n</g>\n<!-- 9&#45;&#45;12 -->\n<g id=\"edge16\" class=\"edge\">\n<title>9&#45;&#45;12</title>\n<path fill=\"none\" stroke=\"#c0c0c0\" d=\"M114.7775,-103.7913C122.0146,-125.2831 137.1433,-170.2104 144.3593,-191.6396\"/>\n</g>\n<!-- 13 -->\n<g id=\"node14\" class=\"node\">\n<title>13</title>\n<ellipse fill=\"none\" stroke=\"#ff4500\" cx=\"34.7717\" cy=\"-34.9767\" rx=\"19.1842\" ry=\"12.0417\"/>\n<text text-anchor=\"middle\" x=\"34.7717\" y=\"-33.0767\" font-family=\"monospace\" font-size=\"8.00\" fill=\"#7b68ee\">13</text>\n</g>\n<!-- 9&#45;&#45;13 -->\n<g id=\"edge17\" class=\"edge\">\n<title>9&#45;&#45;13</title>\n<path fill=\"none\" stroke=\"#c0c0c0\" d=\"M99.5422,-83.451C85.5894,-73.0087 61.8312,-55.228 47.2946,-44.3488\"/>\n</g>\n<!-- 10&#45;&#45;13 -->\n<g id=\"edge18\" class=\"edge\">\n<title>10&#45;&#45;13</title>\n<path fill=\"none\" stroke=\"#c0c0c0\" d=\"M43.934,-64.076C42.2278,-58.657 40.2242,-52.2939 38.5265,-46.902\"/>\n</g>\n<!-- 17 -->\n<g id=\"node18\" class=\"node\">\n<title>17</title>\n<ellipse fill=\"none\" stroke=\"#ff4500\" cx=\"19.0919\" cy=\"-161.1457\" rx=\"19.1842\" ry=\"12.0417\"/>\n<text text-anchor=\"middle\" x=\"19.0919\" y=\"-159.2457\" font-family=\"monospace\" font-size=\"8.00\" fill=\"#7b68ee\">17</text>\n</g>\n<!-- 10&#45;&#45;17 -->\n<g id=\"edge19\" class=\"edge\">\n<title>10&#45;&#45;17</title>\n<path fill=\"none\" stroke=\"#c0c0c0\" d=\"M43.7746,-88.0374C38.3281,-104.1696 28.6137,-132.9429 23.1368,-149.1651\"/>\n</g>\n<!-- 11 -->\n<g id=\"node12\" class=\"node\">\n<title>11</title>\n<ellipse fill=\"none\" stroke=\"#ff4500\" cx=\"118.5714\" cy=\"-290.0107\" rx=\"19.1842\" ry=\"12.0417\"/>\n<text text-anchor=\"middle\" x=\"118.5714\" y=\"-288.1107\" font-family=\"monospace\" font-size=\"8.00\" fill=\"#7b68ee\">11</text>\n</g>\n<!-- 11&#45;&#45;12 -->\n<g id=\"edge20\" class=\"edge\">\n<title>11&#45;&#45;12</title>\n<path fill=\"none\" stroke=\"#c0c0c0\" d=\"M122.7126,-277.9822C128.4027,-261.4548 138.5767,-231.9033 144.2483,-215.4297\"/>\n</g>\n<!-- 15 -->\n<g id=\"node16\" class=\"node\">\n<title>15</title>\n<ellipse fill=\"none\" stroke=\"#ff4500\" cx=\"162.9814\" cy=\"-271.8486\" rx=\"19.1842\" ry=\"12.0417\"/>\n<text text-anchor=\"middle\" x=\"162.9814\" y=\"-269.9486\" font-family=\"monospace\" font-size=\"8.00\" fill=\"#7b68ee\">15</text>\n</g>\n<!-- 11&#45;&#45;15 -->\n<g id=\"edge21\" class=\"edge\">\n<title>11&#45;&#45;15</title>\n<path fill=\"none\" stroke=\"#c0c0c0\" d=\"M134.6044,-283.4537C138.5796,-281.828 142.8415,-280.085 146.8227,-278.4569\"/>\n</g>\n<!-- 12&#45;&#45;15 -->\n<g id=\"edge22\" class=\"edge\">\n<title>12&#45;&#45;15</title>\n<path fill=\"none\" stroke=\"#c0c0c0\" d=\"M150.9693,-215.7222C153.6317,-228.1623 157.7348,-247.3338 160.389,-259.7356\"/>\n</g>\n<!-- 16 -->\n<g id=\"node17\" class=\"node\">\n<title>16</title>\n<ellipse fill=\"none\" stroke=\"#ff4500\" cx=\"81.2984\" cy=\"-227.5319\" rx=\"19.1842\" ry=\"12.0417\"/>\n<text text-anchor=\"middle\" x=\"81.2984\" y=\"-225.6319\" font-family=\"monospace\" font-size=\"8.00\" fill=\"#7b68ee\">16</text>\n</g>\n<!-- 12&#45;&#45;16 -->\n<g id=\"edge23\" class=\"edge\">\n<title>12&#45;&#45;16</title>\n<path fill=\"none\" stroke=\"#c0c0c0\" d=\"M131.4332,-209.5668C121.1905,-213.2372 108.1813,-217.8988 97.9817,-221.5537\"/>\n</g>\n<!-- 14&#45;&#45;15 -->\n<g id=\"edge24\" class=\"edge\">\n<title>14&#45;&#45;15</title>\n<path fill=\"none\" stroke=\"#c0c0c0\" d=\"M243.7297,-283.08C226.0612,-280.6225 199.6937,-276.955 181.9424,-274.4859\"/>\n</g>\n<!-- 15&#45;&#45;16 -->\n<g id=\"edge25\" class=\"edge\">\n<title>15&#45;&#45;16</title>\n<path fill=\"none\" stroke=\"#c0c0c0\" d=\"M148.3781,-263.9256C133.5102,-255.8591 110.5973,-243.4279 95.7753,-235.3863\"/>\n</g>\n<!-- 16&#45;&#45;17 -->\n<g id=\"edge26\" class=\"edge\">\n<title>16&#45;&#45;17</title>\n<path fill=\"none\" stroke=\"#c0c0c0\" d=\"M71.5786,-217.1591C59.9605,-204.7603 40.6271,-184.1279 28.9487,-171.6648\"/>\n</g>\n</g>\n</svg>\n"
          },
          "metadata": {},
          "execution_count": 5
        }
      ]
    },
    {
      "cell_type": "code",
      "metadata": {
        "colab": {
          "base_uri": "https://localhost:8080/",
          "height": 446
        },
        "id": "wDMYFiEFHsej",
        "outputId": "69608d06-ef51-4729-e13e-95f36e380e48"
      },
      "source": [
        "path = bfs(G, 6)\n",
        "print(path)\n",
        "adjlShow(G, path=path)"
      ],
      "execution_count": null,
      "outputs": [
        {
          "output_type": "stream",
          "name": "stdout",
          "text": [
            "[1, 5, 12, 6, 5, 6, None, 8, 5, 6, 3, 12, 9, 9, 7, 12, 12, 10]\n"
          ]
        },
        {
          "output_type": "execute_result",
          "data": {
            "text/plain": [
              "<graphviz.dot.Graph at 0x7fc06574dcd0>"
            ],
            "image/svg+xml": "<?xml version=\"1.0\" encoding=\"UTF-8\" standalone=\"no\"?>\n<!DOCTYPE svg PUBLIC \"-//W3C//DTD SVG 1.1//EN\"\n \"http://www.w3.org/Graphics/SVG/1.1/DTD/svg11.dtd\">\n<!-- Generated by graphviz version 2.40.1 (20161225.0304)\n -->\n<!-- Title: G Pages: 1 -->\n<svg width=\"421pt\" height=\"306pt\"\n viewBox=\"0.00 0.00 421.42 306.05\" xmlns=\"http://www.w3.org/2000/svg\" xmlns:xlink=\"http://www.w3.org/1999/xlink\">\n<g id=\"graph0\" class=\"graph\" transform=\"scale(1 1) rotate(0) translate(4 302.0513)\">\n<title>G</title>\n<polygon fill=\"#ffffff\" stroke=\"transparent\" points=\"-4,4 -4,-302.0513 417.4219,-302.0513 417.4219,4 -4,4\"/>\n<!-- 0 -->\n<g id=\"node1\" class=\"node\">\n<title>0</title>\n<ellipse fill=\"none\" stroke=\"#ff4500\" cx=\"72.764\" cy=\"-159.6817\" rx=\"15.6129\" ry=\"12.0417\"/>\n<text text-anchor=\"middle\" x=\"72.764\" y=\"-157.7817\" font-family=\"monospace\" font-size=\"8.00\" fill=\"#7b68ee\">0</text>\n</g>\n<!-- 2 -->\n<g id=\"node3\" class=\"node\">\n<title>2</title>\n<ellipse fill=\"none\" stroke=\"#ff4500\" cx=\"167.9435\" cy=\"-122.5927\" rx=\"15.6129\" ry=\"12.0417\"/>\n<text text-anchor=\"middle\" x=\"167.9435\" y=\"-120.6927\" font-family=\"monospace\" font-size=\"8.00\" fill=\"#7b68ee\">2</text>\n</g>\n<!-- 0&#45;&#45;2 -->\n<g id=\"edge18\" class=\"edge\">\n<title>0&#45;&#45;2</title>\n<path fill=\"none\" stroke=\"#c0c0c0\" d=\"M86.808,-154.2091C104.8033,-147.1968 135.8188,-135.1109 153.8418,-128.0878\"/>\n</g>\n<!-- 4 -->\n<g id=\"node5\" class=\"node\">\n<title>4</title>\n<ellipse fill=\"none\" stroke=\"#ff4500\" cx=\"15.5563\" cy=\"-209.0119\" rx=\"15.6129\" ry=\"12.0417\"/>\n<text text-anchor=\"middle\" x=\"15.5563\" y=\"-207.1119\" font-family=\"monospace\" font-size=\"8.00\" fill=\"#7b68ee\">4</text>\n</g>\n<!-- 0&#45;&#45;4 -->\n<g id=\"edge19\" class=\"edge\">\n<title>0&#45;&#45;4</title>\n<path fill=\"none\" stroke=\"#c0c0c0\" d=\"M62.2712,-168.7296C51.9491,-177.6304 36.2816,-191.1405 25.9826,-200.0214\"/>\n</g>\n<!-- 7 -->\n<g id=\"node8\" class=\"node\">\n<title>7</title>\n<ellipse fill=\"none\" stroke=\"#ff4500\" cx=\"68.4\" cy=\"-77.1578\" rx=\"15.6129\" ry=\"12.0417\"/>\n<text text-anchor=\"middle\" x=\"68.4\" y=\"-75.2578\" font-family=\"monospace\" font-size=\"8.00\" fill=\"#7b68ee\">7</text>\n</g>\n<!-- 0&#45;&#45;7 -->\n<g id=\"edge20\" class=\"edge\">\n<title>0&#45;&#45;7</title>\n<path fill=\"none\" stroke=\"#c0c0c0\" d=\"M72.1201,-147.505C71.295,-131.9025 69.8729,-105.011 69.0465,-89.3844\"/>\n</g>\n<!-- 1 -->\n<g id=\"node2\" class=\"node\">\n<title>1</title>\n<ellipse fill=\"none\" stroke=\"#ff4500\" cx=\"40.6592\" cy=\"-243.6656\" rx=\"15.6129\" ry=\"12.0417\"/>\n<text text-anchor=\"middle\" x=\"40.6592\" y=\"-241.7656\" font-family=\"monospace\" font-size=\"8.00\" fill=\"#7b68ee\">1</text>\n</g>\n<!-- 1&#45;&#45;0 -->\n<g id=\"edge1\" class=\"edge\">\n<title>1&#45;&#45;0</title>\n<path fill=\"none\" stroke=\"#ffa500\" stroke-width=\"2\" d=\"M45.1232,-231.988C50.1548,-218.8258 58.4388,-197.1552 64.6282,-180.9642\"/>\n<polygon fill=\"#ffa500\" stroke=\"#ffa500\" stroke-width=\"2\" points=\"68.0363,-181.8507 68.3378,-171.2601 61.4978,-179.3511 68.0363,-181.8507\"/>\n</g>\n<!-- 3 -->\n<g id=\"node4\" class=\"node\">\n<title>3</title>\n<ellipse fill=\"none\" stroke=\"#ff4500\" cx=\"294.9947\" cy=\"-286.0305\" rx=\"15.6129\" ry=\"12.0417\"/>\n<text text-anchor=\"middle\" x=\"294.9947\" y=\"-284.1305\" font-family=\"monospace\" font-size=\"8.00\" fill=\"#7b68ee\">3</text>\n</g>\n<!-- 10 -->\n<g id=\"node11\" class=\"node\">\n<title>10</title>\n<ellipse fill=\"none\" stroke=\"#ff4500\" cx=\"362.0424\" cy=\"-226.1812\" rx=\"19.1842\" ry=\"12.0417\"/>\n<text text-anchor=\"middle\" x=\"362.0424\" y=\"-224.2812\" font-family=\"monospace\" font-size=\"8.00\" fill=\"#7b68ee\">10</text>\n</g>\n<!-- 3&#45;&#45;10 -->\n<g id=\"edge10\" class=\"edge\">\n<title>3&#45;&#45;10</title>\n<path fill=\"none\" stroke=\"#ffa500\" stroke-width=\"2\" d=\"M305.1778,-276.9407C315.275,-267.9276 330.9802,-253.9085 343.3294,-242.8851\"/>\n<polygon fill=\"#ffa500\" stroke=\"#ffa500\" stroke-width=\"2\" points=\"345.7378,-245.4268 350.8673,-236.1565 341.0763,-240.2047 345.7378,-245.4268\"/>\n</g>\n<!-- 5 -->\n<g id=\"node6\" class=\"node\">\n<title>5</title>\n<ellipse fill=\"none\" stroke=\"#ff4500\" cx=\"90.3393\" cy=\"-227.5069\" rx=\"15.6129\" ry=\"12.0417\"/>\n<text text-anchor=\"middle\" x=\"90.3393\" y=\"-225.6069\" font-family=\"monospace\" font-size=\"8.00\" fill=\"#7b68ee\">5</text>\n</g>\n<!-- 5&#45;&#45;1 -->\n<g id=\"edge2\" class=\"edge\">\n<title>5&#45;&#45;1</title>\n<path fill=\"none\" stroke=\"#ffa500\" stroke-width=\"2\" d=\"M75.9697,-232.1807C72.4987,-233.3097 68.6937,-234.5472 64.9071,-235.7789\"/>\n<polygon fill=\"#ffa500\" stroke=\"#ffa500\" stroke-width=\"2\" points=\"63.5956,-232.5249 55.1685,-238.9464 65.7608,-239.1816 63.5956,-232.5249\"/>\n</g>\n<!-- 5&#45;&#45;4 -->\n<g id=\"edge5\" class=\"edge\">\n<title>5&#45;&#45;4</title>\n<path fill=\"none\" stroke=\"#ffa500\" stroke-width=\"2\" d=\"M75.2059,-223.7642C65.2069,-221.2913 51.8692,-217.9926 40.3418,-215.1418\"/>\n<polygon fill=\"#ffa500\" stroke=\"#ffa500\" stroke-width=\"2\" points=\"40.9599,-211.6892 30.4121,-212.686 39.2793,-218.4845 40.9599,-211.6892\"/>\n</g>\n<!-- 8 -->\n<g id=\"node9\" class=\"node\">\n<title>8</title>\n<ellipse fill=\"none\" stroke=\"#ff4500\" cx=\"29.5247\" cy=\"-145.0031\" rx=\"15.6129\" ry=\"12.0417\"/>\n<text text-anchor=\"middle\" x=\"29.5247\" y=\"-143.1031\" font-family=\"monospace\" font-size=\"8.00\" fill=\"#7b68ee\">8</text>\n</g>\n<!-- 5&#45;&#45;8 -->\n<g id=\"edge8\" class=\"edge\">\n<title>5&#45;&#45;8</title>\n<path fill=\"none\" stroke=\"#ffa500\" stroke-width=\"2\" d=\"M82.6371,-217.0577C72.8209,-203.7406 55.6701,-180.4731 43.5162,-163.9846\"/>\n<polygon fill=\"#ffa500\" stroke=\"#ffa500\" stroke-width=\"2\" points=\"46.1073,-161.6009 37.3565,-155.628 40.4726,-165.7543 46.1073,-161.6009\"/>\n</g>\n<!-- 6 -->\n<g id=\"node7\" class=\"node\">\n<title>6</title>\n<ellipse fill=\"none\" stroke=\"#ff4500\" cx=\"211.2986\" cy=\"-256.2358\" rx=\"15.6129\" ry=\"12.0417\"/>\n<text text-anchor=\"middle\" x=\"211.2986\" y=\"-254.3358\" font-family=\"monospace\" font-size=\"8.00\" fill=\"#7b68ee\">6</text>\n</g>\n<!-- 6&#45;&#45;3 -->\n<g id=\"edge4\" class=\"edge\">\n<title>6&#45;&#45;3</title>\n<path fill=\"none\" stroke=\"#ffa500\" stroke-width=\"2\" d=\"M225.4965,-261.2901C238.0014,-265.7416 256.4685,-272.3157 271.2238,-277.5684\"/>\n<polygon fill=\"#ffa500\" stroke=\"#ffa500\" stroke-width=\"2\" points=\"270.1325,-280.895 280.7272,-280.9514 272.4801,-274.3004 270.1325,-280.895\"/>\n</g>\n<!-- 6&#45;&#45;5 -->\n<g id=\"edge6\" class=\"edge\">\n<title>6&#45;&#45;5</title>\n<path fill=\"none\" stroke=\"#ffa500\" stroke-width=\"2\" d=\"M195.979,-252.5973C175.7112,-247.7835 139.7229,-239.2359 115.4512,-233.4712\"/>\n<polygon fill=\"#ffa500\" stroke=\"#ffa500\" stroke-width=\"2\" points=\"116.0727,-230.0215 105.5345,-231.1159 114.455,-236.832 116.0727,-230.0215\"/>\n</g>\n<!-- 9 -->\n<g id=\"node10\" class=\"node\">\n<title>9</title>\n<ellipse fill=\"none\" stroke=\"#ff4500\" cx=\"299.348\" cy=\"-209.3913\" rx=\"15.6129\" ry=\"12.0417\"/>\n<text text-anchor=\"middle\" x=\"299.348\" y=\"-207.4913\" font-family=\"monospace\" font-size=\"8.00\" fill=\"#7b68ee\">9</text>\n</g>\n<!-- 6&#45;&#45;9 -->\n<g id=\"edge9\" class=\"edge\">\n<title>6&#45;&#45;9</title>\n<path fill=\"none\" stroke=\"#ffa500\" stroke-width=\"2\" d=\"M224.2906,-249.3237C238.2066,-241.9201 260.5394,-230.0384 277.2322,-221.1574\"/>\n<polygon fill=\"#ffa500\" stroke=\"#ffa500\" stroke-width=\"2\" points=\"279.1183,-224.1185 286.3027,-216.3317 275.8304,-217.9387 279.1183,-224.1185\"/>\n</g>\n<!-- 14 -->\n<g id=\"node15\" class=\"node\">\n<title>14</title>\n<ellipse fill=\"none\" stroke=\"#ff4500\" cx=\"148.2385\" cy=\"-17.1764\" rx=\"19.1842\" ry=\"12.0417\"/>\n<text text-anchor=\"middle\" x=\"148.2385\" y=\"-15.2764\" font-family=\"monospace\" font-size=\"8.00\" fill=\"#7b68ee\">14</text>\n</g>\n<!-- 7&#45;&#45;14 -->\n<g id=\"edge14\" class=\"edge\">\n<title>7&#45;&#45;14</title>\n<path fill=\"none\" stroke=\"#ffa500\" stroke-width=\"2\" d=\"M79.8389,-68.5639C92.2378,-59.2488 112.2855,-44.1873 127.479,-32.7727\"/>\n<polygon fill=\"#ffa500\" stroke=\"#ffa500\" stroke-width=\"2\" points=\"129.8764,-35.3492 135.7692,-26.5444 125.6718,-29.7527 129.8764,-35.3492\"/>\n</g>\n<!-- 8&#45;&#45;7 -->\n<g id=\"edge7\" class=\"edge\">\n<title>8&#45;&#45;7</title>\n<path fill=\"none\" stroke=\"#ffa500\" stroke-width=\"2\" d=\"M35.9442,-133.7998C41.6618,-123.8214 50.1607,-108.9891 57.0273,-97.0054\"/>\n<polygon fill=\"#ffa500\" stroke=\"#ffa500\" stroke-width=\"2\" points=\"60.1651,-98.5692 62.1,-88.1526 54.0915,-95.0891 60.1651,-98.5692\"/>\n</g>\n<!-- 9&#45;&#45;10 -->\n<g id=\"edge21\" class=\"edge\">\n<title>9&#45;&#45;10</title>\n<path fill=\"none\" stroke=\"#c0c0c0\" d=\"M314.2057,-213.3702C323.1858,-215.7752 334.6898,-218.856 344.1658,-221.3937\"/>\n</g>\n<!-- 12 -->\n<g id=\"node13\" class=\"node\">\n<title>12</title>\n<ellipse fill=\"none\" stroke=\"#ff4500\" cx=\"269.2889\" cy=\"-98.4181\" rx=\"19.1842\" ry=\"12.0417\"/>\n<text text-anchor=\"middle\" x=\"269.2889\" y=\"-96.5181\" font-family=\"monospace\" font-size=\"8.00\" fill=\"#7b68ee\">12</text>\n</g>\n<!-- 9&#45;&#45;12 -->\n<g id=\"edge12\" class=\"edge\">\n<title>9&#45;&#45;12</title>\n<path fill=\"none\" stroke=\"#ffa500\" stroke-width=\"2\" d=\"M296.1311,-197.5152C291.1627,-179.1727 281.5418,-143.6538 275.2698,-120.4988\"/>\n<polygon fill=\"#ffa500\" stroke=\"#ffa500\" stroke-width=\"2\" points=\"278.5665,-119.2823 272.5737,-110.5452 271.81,-121.1124 278.5665,-119.2823\"/>\n</g>\n<!-- 13 -->\n<g id=\"node14\" class=\"node\">\n<title>13</title>\n<ellipse fill=\"none\" stroke=\"#ff4500\" cx=\"370.6157\" cy=\"-269.4334\" rx=\"19.1842\" ry=\"12.0417\"/>\n<text text-anchor=\"middle\" x=\"370.6157\" y=\"-267.5334\" font-family=\"monospace\" font-size=\"8.00\" fill=\"#7b68ee\">13</text>\n</g>\n<!-- 9&#45;&#45;13 -->\n<g id=\"edge13\" class=\"edge\">\n<title>9&#45;&#45;13</title>\n<path fill=\"none\" stroke=\"#ffa500\" stroke-width=\"2\" d=\"M309.8638,-218.2507C320.7657,-227.4354 338.0497,-241.997 351.3994,-253.244\"/>\n<polygon fill=\"#ffa500\" stroke=\"#ffa500\" stroke-width=\"2\" points=\"349.2081,-255.9744 359.1109,-259.7408 353.7183,-250.621 349.2081,-255.9744\"/>\n</g>\n<!-- 10&#45;&#45;13 -->\n<g id=\"edge22\" class=\"edge\">\n<title>10&#45;&#45;13</title>\n<path fill=\"none\" stroke=\"#c0c0c0\" d=\"M364.4762,-238.4598C365.6446,-244.354 367.0403,-251.3952 368.2055,-257.2738\"/>\n</g>\n<!-- 17 -->\n<g id=\"node18\" class=\"node\">\n<title>17</title>\n<ellipse fill=\"none\" stroke=\"#ff4500\" cx=\"394.33\" cy=\"-142.3756\" rx=\"19.1842\" ry=\"12.0417\"/>\n<text text-anchor=\"middle\" x=\"394.33\" y=\"-140.4756\" font-family=\"monospace\" font-size=\"8.00\" fill=\"#7b68ee\">17</text>\n</g>\n<!-- 10&#45;&#45;17 -->\n<g id=\"edge17\" class=\"edge\">\n<title>10&#45;&#45;17</title>\n<path fill=\"none\" stroke=\"#ffa500\" stroke-width=\"2\" d=\"M366.6684,-214.1739C371.732,-201.0309 379.95,-179.7004 386.1153,-163.6976\"/>\n<polygon fill=\"#ffa500\" stroke=\"#ffa500\" stroke-width=\"2\" points=\"389.4875,-164.6802 389.8166,-154.0904 382.9555,-162.1635 389.4875,-164.6802\"/>\n</g>\n<!-- 11 -->\n<g id=\"node12\" class=\"node\">\n<title>11</title>\n<ellipse fill=\"none\" stroke=\"#ff4500\" cx=\"297.1596\" cy=\"-12.0208\" rx=\"19.1842\" ry=\"12.0417\"/>\n<text text-anchor=\"middle\" x=\"297.1596\" y=\"-10.1208\" font-family=\"monospace\" font-size=\"8.00\" fill=\"#7b68ee\">11</text>\n</g>\n<!-- 15 -->\n<g id=\"node16\" class=\"node\">\n<title>15</title>\n<ellipse fill=\"none\" stroke=\"#ff4500\" cx=\"251.0368\" cy=\"-30.3995\" rx=\"19.1842\" ry=\"12.0417\"/>\n<text text-anchor=\"middle\" x=\"251.0368\" y=\"-28.4995\" font-family=\"monospace\" font-size=\"8.00\" fill=\"#7b68ee\">15</text>\n</g>\n<!-- 11&#45;&#45;15 -->\n<g id=\"edge23\" class=\"edge\">\n<title>11&#45;&#45;15</title>\n<path fill=\"none\" stroke=\"#c0c0c0\" d=\"M280.7686,-18.5522C276.4186,-20.2855 271.7222,-22.1569 267.375,-23.8891\"/>\n</g>\n<!-- 12&#45;&#45;2 -->\n<g id=\"edge3\" class=\"edge\">\n<title>12&#45;&#45;2</title>\n<path fill=\"none\" stroke=\"#ffa500\" stroke-width=\"2\" d=\"M251.1703,-102.74C234.8933,-106.6227 210.8446,-112.3592 192.7784,-116.6687\"/>\n<polygon fill=\"#ffa500\" stroke=\"#ffa500\" stroke-width=\"2\" points=\"191.8515,-113.2915 182.9366,-119.0163 193.4758,-120.1005 191.8515,-113.2915\"/>\n</g>\n<!-- 12&#45;&#45;11 -->\n<g id=\"edge11\" class=\"edge\">\n<title>12&#45;&#45;11</title>\n<path fill=\"none\" stroke=\"#ffa500\" stroke-width=\"2\" d=\"M273.1642,-86.4049C277.5322,-72.8645 284.7237,-50.5712 290.0968,-33.9149\"/>\n<polygon fill=\"#ffa500\" stroke=\"#ffa500\" stroke-width=\"2\" points=\"293.578,-34.5236 293.3172,-23.932 286.9161,-32.3745 293.578,-34.5236\"/>\n</g>\n<!-- 12&#45;&#45;15 -->\n<g id=\"edge15\" class=\"edge\">\n<title>12&#45;&#45;15</title>\n<path fill=\"none\" stroke=\"#ffa500\" stroke-width=\"2\" d=\"M266.0257,-86.2577C263.5081,-76.8755 259.9581,-63.646 256.9449,-52.4169\"/>\n<polygon fill=\"#ffa500\" stroke=\"#ffa500\" stroke-width=\"2\" points=\"260.2438,-51.2058 254.2716,-42.4546 253.483,-53.02 260.2438,-51.2058\"/>\n</g>\n<!-- 16 -->\n<g id=\"node17\" class=\"node\">\n<title>16</title>\n<ellipse fill=\"none\" stroke=\"#ff4500\" cx=\"334.1529\" cy=\"-74.4734\" rx=\"19.1842\" ry=\"12.0417\"/>\n<text text-anchor=\"middle\" x=\"334.1529\" y=\"-72.5734\" font-family=\"monospace\" font-size=\"8.00\" fill=\"#7b68ee\">16</text>\n</g>\n<!-- 12&#45;&#45;16 -->\n<g id=\"edge16\" class=\"edge\">\n<title>12&#45;&#45;16</title>\n<path fill=\"none\" stroke=\"#ffa500\" stroke-width=\"2\" d=\"M285.9929,-92.2517C292.5994,-89.8129 300.3547,-86.9501 307.6883,-84.2428\"/>\n<polygon fill=\"#ffa500\" stroke=\"#ffa500\" stroke-width=\"2\" points=\"309.1108,-87.4487 317.2799,-80.7021 306.6866,-80.8818 309.1108,-87.4487\"/>\n</g>\n<!-- 14&#45;&#45;15 -->\n<g id=\"edge24\" class=\"edge\">\n<title>14&#45;&#45;15</title>\n<path fill=\"none\" stroke=\"#c0c0c0\" d=\"M167.0933,-19.6017C185.6414,-21.9876 213.7948,-25.609 232.3015,-27.9895\"/>\n</g>\n<!-- 15&#45;&#45;16 -->\n<g id=\"edge25\" class=\"edge\">\n<title>15&#45;&#45;16</title>\n<path fill=\"none\" stroke=\"#c0c0c0\" d=\"M265.8963,-38.279C281.025,-46.3013 304.3399,-58.6645 319.422,-66.6621\"/>\n</g>\n<!-- 16&#45;&#45;17 -->\n<g id=\"edge26\" class=\"edge\">\n<title>16&#45;&#45;17</title>\n<path fill=\"none\" stroke=\"#c0c0c0\" d=\"M343.5555,-85.0831C354.7947,-97.7651 373.4973,-118.8686 384.7947,-131.6163\"/>\n</g>\n</g>\n</svg>\n"
          },
          "metadata": {},
          "execution_count": 6
        }
      ]
    },
    {
      "cell_type": "code",
      "metadata": {
        "id": "i8ZC115VItIf"
      },
      "source": [
        ""
      ],
      "execution_count": null,
      "outputs": []
    }
  ]
}